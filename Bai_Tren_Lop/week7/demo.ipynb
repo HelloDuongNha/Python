{
 "cells": [
  {
   "cell_type": "code",
   "execution_count": null,
   "metadata": {},
   "outputs": [],
   "source": [
    "#define a function\n",
    "def my_funct(a, b): # a, b are parameters\n",
    "    print(a)\n",
    "    print(b)\n",
    "#invoke / call a function\n",
    "x = 10\n",
    "y = 20\n",
    "a = 'hello'\n",
    "b = 'world'\n",
    "\n",
    "my_funct(x, y) # x, y are arguments\n",
    "my_funct(a, b) # a, b are arguments\n",
    "my_funct('hi', 'how are you?') # 'hi', 'how are you' are arguments\n",
    "my_funct(x, 'hello') #x, 'hello' are arguments"
   ]
  },
  {
   "cell_type": "code",
   "execution_count": null,
   "metadata": {},
   "outputs": [],
   "source": [
    "# scope of variables\n",
    "def swap(a,b):\n",
    "    #, b are local variables, only exist in this function\n",
    "    temp = a\n",
    "    a = b\n",
    "    b = temp\n",
    "    print(f'a={a}, b ={b}')\n",
    "# a, b are global variables, exist in the whole program\n",
    "a = 9\n",
    "b = 10 \n",
    "swap(a,b)\n",
    "print(f'a = {a}, b ={b}')"
   ]
  },
  {
   "cell_type": "code",
   "execution_count": null,
   "metadata": {},
   "outputs": [],
   "source": [
    "a = 9 \n",
    "b = 10\n",
    "def my_func():\n",
    "    a = 1\n",
    "    print(f'a = {a}, b = {b}') # local a and global b\n",
    "\n",
    "my_func()"
   ]
  },
  {
   "cell_type": "code",
   "execution_count": null,
   "metadata": {},
   "outputs": [],
   "source": [
    "def my_func(a, b, c='hello', d=10):\n",
    "    print(f' a ={a}, b = {b}, c = {c}, d = {d}')\n"
   ]
  },
  {
   "cell_type": "code",
   "execution_count": null,
   "metadata": {},
   "outputs": [],
   "source": [
    "a = 1\n",
    "b = 2\n",
    "my_func(a, b)"
   ]
  },
  {
   "cell_type": "code",
   "execution_count": null,
   "metadata": {},
   "outputs": [],
   "source": [
    "my_func(a, b, 'hi')\n"
   ]
  },
  {
   "cell_type": "code",
   "execution_count": null,
   "metadata": {},
   "outputs": [],
   "source": [
    "my_func(a, b, i, 20)"
   ]
  },
  {
   "cell_type": "code",
   "execution_count": null,
   "metadata": {},
   "outputs": [],
   "source": [
    "my func('hi', 10, a, b)"
   ]
  },
  {
   "cell_type": "code",
   "execution_count": null,
   "metadata": {},
   "outputs": [],
   "source": [
    "my_func(a, b, d=20, c='hello')"
   ]
  },
  {
   "cell_type": "code",
   "execution_count": null,
   "metadata": {},
   "outputs": [],
   "source": [
    "# declare a list\n",
    "a = [] #empty list\n",
    "b = [1] #list with one elemet\n",
    "c = ['Paul', 'Mike', 'Anna'] #list with 3 strings\n",
    "print(a)\n",
    "print(b)\n",
    "print(c)"
   ]
  },
  {
   "cell_type": "code",
   "execution_count": null,
   "metadata": {},
   "outputs": [],
   "source": [
    "# access elements in a list (use zero-based index)\n",
    "print(c[0]) #Paul\n",
    "print(c[1]) #Mike\n",
    "c[2] = 'Mary' #change the third element\n",
    "print(c)"
   ]
  },
  {
   "cell_type": "code",
   "execution_count": null,
   "metadata": {},
   "outputs": [],
   "source": [
    "# list of none\n",
    "e = [none, none, none]\n"
   ]
  },
  {
   "cell_type": "code",
   "execution_count": null,
   "metadata": {},
   "outputs": [],
   "source": [
    "a = [1, 2, 3]\n",
    "b = [4, 5, 6]\n",
    "c = a + b\n",
    "print(c)"
   ]
  },
  {
   "cell_type": "code",
   "execution_count": null,
   "metadata": {},
   "outputs": [],
   "source": [
    "a = ['hello'] * 3\n",
    "print(a)\n",
    "b = [1, 2, 3] * 4\n",
    "print(b)"
   ]
  },
  {
   "cell_type": "code",
   "execution_count": 1,
   "metadata": {},
   "outputs": [
    {
     "name": "stdout",
     "output_type": "stream",
     "text": [
      "10 is not in [81, 92, 75, 24, 86, 61, 67, 8, 39, 9]\n"
     ]
    }
   ],
   "source": [
    "import random as rd\n",
    "a = rd.sample(range(100), 10) # generate a list of 10 random numbers from 0 to 99\n",
    "n = int(input('enter N: '))\n",
    "if n in a:\n",
    "    print(f'{n} is in {a}')\n",
    "else:\n",
    "    print(f'{n} is not in {a}')"
   ]
  },
  {
   "cell_type": "code",
   "execution_count": 2,
   "metadata": {},
   "outputs": [
    {
     "name": "stdout",
     "output_type": "stream",
     "text": [
      "[81, 92, 75, 24, 86, 61, 67, 8, 39, 9]\n",
      "81 92 75 24 86 61 67 8 39 9 \n",
      "0 : 81\n",
      "1 : 92\n",
      "2 : 75\n",
      "3 : 24\n",
      "4 : 86\n",
      "5 : 61\n",
      "6 : 67\n",
      "7 : 8\n",
      "8 : 39\n",
      "9 : 9\n"
     ]
    }
   ],
   "source": [
    "#\n",
    "#\n",
    "print(a)\n",
    "for i in a:\n",
    "    print(i, end=' ')\n",
    "print()\n",
    "for i in range(len(a)):\n",
    "    print(i, ':', a[i])"
   ]
  },
  {
   "cell_type": "code",
   "execution_count": 8,
   "metadata": {},
   "outputs": [
    {
     "name": "stdout",
     "output_type": "stream",
     "text": [
      "[81, 92, 75, 24, 86, 61, 67, 8, 39, 9]\n",
      "92 24 86 8 \n",
      "1 : 92\n",
      "3 : 24\n",
      "4 : 86\n",
      "7 : 8\n"
     ]
    }
   ],
   "source": [
    "print(a)\n",
    "for i in a:\n",
    "    if i % 2 !=1:\n",
    "        print(i, end=' ')\n",
    "print()\n",
    "for i in range(len(a)):\n",
    "    if a[i] % 2 !=1:\n",
    "        print(i, ':', a[i])"
   ]
  },
  {
   "cell_type": "code",
   "execution_count": 11,
   "metadata": {},
   "outputs": [
    {
     "name": "stdout",
     "output_type": "stream",
     "text": [
      "[81, 92, 75, 24, 86, 61, 67, 8, 39, 9]\n"
     ]
    }
   ],
   "source": [
    "# search for existence of an element in a list\n",
    "print(a)\n",
    "n = int(input('enter n: '))\n",
    "found = False\n",
    "\n",
    "for i in range(len(a)):\n",
    "    if a[i] == n:       # found n in a\n",
    "        found = True    # set found to true\n",
    "        break           # no need to continue the search\n",
    "\n",
    "if found:\n",
    "    print(f'{n} is in {a}')\n",
    "else:\n",
    "    print(f'{n} is not in {a}')"
   ]
  },
  {
   "cell_type": "code",
   "execution_count": null,
   "metadata": {},
   "outputs": [],
   "source": [
    "# search for the position of an element in a list, if not return none\n",
    "n = int(input('enter n: '))\n",
    "position = None\n",
    "for i in range(len(a)):\n",
    "    if a[i] == n:       # found n in a\n",
    "        position = i    # update found position\n",
    "        break           # no need to continue the search\n",
    "\n",
    "if position is not None:\n",
    "    print(f'{n} is in {a} at position {position}')\n",
    "else:\n",
    "    print(f'{n} is not in {a}')"
   ]
  },
  {
   "cell_type": "code",
   "execution_count": 19,
   "metadata": {},
   "outputs": [
    {
     "name": "stdout",
     "output_type": "stream",
     "text": [
      " the price of pencil is 10 \n"
     ]
    }
   ],
   "source": [
    "product = ['pen', 'pencil', 'notebook', 'eraser', 'ruler']\n",
    "price = [5, 10, 20, 3, 15]\n",
    "position = None\n",
    "name = input('enter product name: ')\n",
    "for i in range(len(product)):\n",
    "    if product[i] == name:\n",
    "        position = i\n",
    "        break\n",
    "\n",
    "if position is not None:\n",
    "    print(f' the price of {name} is {price[i]} ')\n",
    "else:\n",
    "    print('we dun have that')\n",
    "\n"
   ]
  },
  {
   "cell_type": "code",
   "execution_count": 20,
   "metadata": {},
   "outputs": [
    {
     "name": "stdout",
     "output_type": "stream",
     "text": [
      "[81, 92, 75, 24, 86, 61, 67, 8, 39, 9]\n",
      "max = 92\n"
     ]
    }
   ],
   "source": [
    "print(a)\n",
    "m = a[0]\n",
    "i_max = 0\n",
    "for i in range(1, len(a)):\n",
    "    if a[i] > m:\n",
    "        m = a[i]\n",
    "        i_max = i\n",
    "print(f'max = {m} at position {i_max}')"
   ]
  },
  {
   "cell_type": "code",
   "execution_count": 50,
   "metadata": {},
   "outputs": [
    {
     "name": "stdout",
     "output_type": "stream",
     "text": [
      "['pen', 'pencil', 'notebook', 'eraser', 'ruler']\n",
      "[5, 10, 20, 3, 15]\n",
      " the highest price is 20 in the product: notebook\n",
      " the lowest price is 3 in the product: eraser\n",
      " the product notebook: 20 is the highest price\n"
     ]
    }
   ],
   "source": [
    "print(product)\n",
    "print(price)\n",
    "m_price = price[0]\n",
    "i_pri = 0\n",
    "for i in range(1, len(price)):\n",
    "    if price[i] > m_price:\n",
    "        m_price = price[i]\n",
    "        i_pri = i\n",
    "print(f' the highest price is {m_price} in the product: {product[i_pri]}' )\n",
    "\n",
    "m_price = price[0]\n",
    "i_pri = 0\n",
    "for i in range(1, len(price)):\n",
    "    if price[i] < m_price:\n",
    "        m_price = price[i]\n",
    "        i_pri = i\n",
    "print(f' the lowest price is {m_price} in the product: {product[i_pri]}' )\n",
    "\n",
    "m_price = price[0]\n",
    "i_pri = 0\n",
    "for i in range(1, len(price)):\n",
    "    if price[i] > m_price:\n",
    "        m_price = price[i]\n",
    "        i_pri = i\n",
    "print(f' the product {product[i_pri]}: {m_price} is the highest price' )"
   ]
  },
  {
   "cell_type": "code",
   "execution_count": 51,
   "metadata": {},
   "outputs": [
    {
     "name": "stdout",
     "output_type": "stream",
     "text": [
      "[5, 10, 20, 3, 15]\n",
      "sum of prices = 53\n"
     ]
    }
   ],
   "source": [
    "print(price)\n",
    "s = 0\n",
    "for p in price:\n",
    "    s += p\n",
    "print(f'sum of prices = {s}')"
   ]
  },
  {
   "cell_type": "markdown",
   "metadata": {},
   "source": []
  }
 ],
 "metadata": {
  "kernelspec": {
   "display_name": "Python 3",
   "language": "python",
   "name": "python3"
  },
  "language_info": {
   "codemirror_mode": {
    "name": "ipython",
    "version": 3
   },
   "file_extension": ".py",
   "mimetype": "text/x-python",
   "name": "python",
   "nbconvert_exporter": "python",
   "pygments_lexer": "ipython3",
   "version": "3.11.5"
  }
 },
 "nbformat": 4,
 "nbformat_minor": 2
}
