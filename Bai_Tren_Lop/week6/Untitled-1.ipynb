{
 "cells": [
  {
   "cell_type": "code",
   "execution_count": 1,
   "metadata": {},
   "outputs": [],
   "source": [
    "def say_hello():\n",
    "    print('hello')\n"
   ]
  },
  {
   "cell_type": "code",
   "execution_count": 2,
   "metadata": {},
   "outputs": [
    {
     "name": "stdout",
     "output_type": "stream",
     "text": [
      "hello\n"
     ]
    }
   ],
   "source": [
    "say_hello()"
   ]
  },
  {
   "cell_type": "code",
   "execution_count": 3,
   "metadata": {},
   "outputs": [
    {
     "name": "stdout",
     "output_type": "stream",
     "text": [
      "hello lmao\n"
     ]
    }
   ],
   "source": [
    "def say_hello(a):\n",
    "    print('hello ' + a)\n",
    "\n",
    "a = input('enter your name: ')\n",
    "say_hello(a)\n"
   ]
  },
  {
   "cell_type": "code",
   "execution_count": 4,
   "metadata": {},
   "outputs": [],
   "source": [
    "def print_line(n):\n",
    "    for i in range(n):\n",
    "        print('*', end=\"\")\n",
    "    print()"
   ]
  },
  {
   "cell_type": "code",
   "execution_count": 5,
   "metadata": {},
   "outputs": [
    {
     "name": "stdout",
     "output_type": "stream",
     "text": [
      "*****\n"
     ]
    }
   ],
   "source": [
    "print_line(5)"
   ]
  },
  {
   "cell_type": "code",
   "execution_count": 6,
   "metadata": {},
   "outputs": [
    {
     "name": "stdout",
     "output_type": "stream",
     "text": [
      "*****\n",
      "*****\n",
      "*****\n",
      "*****\n",
      "*****\n"
     ]
    }
   ],
   "source": [
    "n = 5\n",
    "for i in range(n):\n",
    "    print_line(n)"
   ]
  },
  {
   "cell_type": "code",
   "execution_count": 7,
   "metadata": {},
   "outputs": [
    {
     "name": "stdout",
     "output_type": "stream",
     "text": [
      "*\n",
      "**\n",
      "***\n",
      "****\n",
      "*****\n"
     ]
    }
   ],
   "source": [
    "for i in range(1, n + 1):\n",
    "    print_line(i)"
   ]
  },
  {
   "cell_type": "code",
   "execution_count": 8,
   "metadata": {},
   "outputs": [],
   "source": [
    "def print_student(name, age, avg_grade):\n",
    "    print('name: '+ name)\n",
    "    print('age: ' + str(age))\n",
    "    print('average grade: ' + str(avg_grade))"
   ]
  },
  {
   "cell_type": "code",
   "execution_count": 9,
   "metadata": {},
   "outputs": [
    {
     "name": "stdout",
     "output_type": "stream",
     "text": [
      "name: john\n",
      "age: 20\n",
      "average grade: 8.5\n"
     ]
    },
    {
     "ename": "ValueError",
     "evalue": "invalid literal for int() with base 10: 'àk'",
     "output_type": "error",
     "traceback": [
      "\u001b[1;31m---------------------------------------------------------------------------\u001b[0m",
      "\u001b[1;31mValueError\u001b[0m                                Traceback (most recent call last)",
      "\u001b[1;32mc:\\WorkSpace\\Python\\Bai_Tren_Lop\\week6\\Untitled-1.ipynb Cell 9\u001b[0m line \u001b[0;36m3\n\u001b[0;32m      <a href='vscode-notebook-cell:/c%3A/WorkSpace/Python/Bai_Tren_Lop/week6/Untitled-1.ipynb#X11sZmlsZQ%3D%3D?line=0'>1</a>\u001b[0m print_student(\u001b[39m'\u001b[39m\u001b[39mjohn\u001b[39m\u001b[39m'\u001b[39m, \u001b[39m20\u001b[39m, \u001b[39m8.5\u001b[39m)\n\u001b[0;32m      <a href='vscode-notebook-cell:/c%3A/WorkSpace/Python/Bai_Tren_Lop/week6/Untitled-1.ipynb#X11sZmlsZQ%3D%3D?line=1'>2</a>\u001b[0m name \u001b[39m=\u001b[39m \u001b[39minput\u001b[39m(\u001b[39m'\u001b[39m\u001b[39menter student name: \u001b[39m\u001b[39m'\u001b[39m)\n\u001b[1;32m----> <a href='vscode-notebook-cell:/c%3A/WorkSpace/Python/Bai_Tren_Lop/week6/Untitled-1.ipynb#X11sZmlsZQ%3D%3D?line=2'>3</a>\u001b[0m age \u001b[39m=\u001b[39m \u001b[39mint\u001b[39;49m(\u001b[39minput\u001b[39;49m(\u001b[39m'\u001b[39;49m\u001b[39menter student age: \u001b[39;49m\u001b[39m'\u001b[39;49m))\n\u001b[0;32m      <a href='vscode-notebook-cell:/c%3A/WorkSpace/Python/Bai_Tren_Lop/week6/Untitled-1.ipynb#X11sZmlsZQ%3D%3D?line=3'>4</a>\u001b[0m avg_grade \u001b[39m=\u001b[39m \u001b[39mfloat\u001b[39m(\u001b[39minput\u001b[39m(\u001b[39m'\u001b[39m\u001b[39menter student average grade: \u001b[39m\u001b[39m'\u001b[39m))\n\u001b[0;32m      <a href='vscode-notebook-cell:/c%3A/WorkSpace/Python/Bai_Tren_Lop/week6/Untitled-1.ipynb#X11sZmlsZQ%3D%3D?line=4'>5</a>\u001b[0m print_student(name, age, avg_grade)\n",
      "\u001b[1;31mValueError\u001b[0m: invalid literal for int() with base 10: 'àk'"
     ]
    }
   ],
   "source": [
    "print_student('john', 20, 8.5)\n",
    "name = input('enter student name: ')\n",
    "age = int(input('enter student age: '))\n",
    "avg_grade = float(input('enter student average grade: '))\n",
    "print_student(name, age, avg_grade)"
   ]
  },
  {
   "cell_type": "code",
   "execution_count": null,
   "metadata": {},
   "outputs": [],
   "source": [
    "def interest(balance, n_months, rate):\n",
    "    new_balance = balance * (1 + rate/100) ** n_months\n",
    "    interest = new_balance - balance\n",
    "    print(f'interest of {balance} after {n_months} months is {interest:.2f}')"
   ]
  },
  {
   "cell_type": "code",
   "execution_count": null,
   "metadata": {},
   "outputs": [
    {
     "name": "stdout",
     "output_type": "stream",
     "text": [
      "interest of 5000 after 5 months is 32968.750000\n"
     ]
    }
   ],
   "source": [
    "balance = int(input('tai khoan cua ban co bao nhieu: '))\n",
    "rate = float(input('lai xuat 1 thang bao nhieu phan tram: '))\n",
    "n_months = int(input('ban muon gui bao nhieu thang: '))\n",
    "interest(balance, n_months, rate)\n"
   ]
  },
  {
   "cell_type": "code",
   "execution_count": null,
   "metadata": {},
   "outputs": [],
   "source": [
    "# scope of variable inside and outside function\n",
    "def double(a):\n",
    "    a = a * 2\n",
    "    print(f'valua of inside function: {a}')"
   ]
  },
  {
   "cell_type": "code",
   "execution_count": null,
   "metadata": {},
   "outputs": [],
   "source": [
    "a = 10\n",
    "print(f'value of a before function: {a}')\n",
    "double(a)\n",
    "print(f'value of a after function: {a}')"
   ]
  },
  {
   "cell_type": "code",
   "execution_count": null,
   "metadata": {},
   "outputs": [],
   "source": [
    "def double(a):\n",
    "    return a*2"
   ]
  },
  {
   "cell_type": "code",
   "execution_count": null,
   "metadata": {},
   "outputs": [
    {
     "name": "stdout",
     "output_type": "stream",
     "text": [
      "20\n"
     ]
    }
   ],
   "source": [
    "print(double(10))"
   ]
  },
  {
   "cell_type": "code",
   "execution_count": null,
   "metadata": {},
   "outputs": [
    {
     "name": "stdout",
     "output_type": "stream",
     "text": [
      "None\n",
      "10\n"
     ]
    }
   ],
   "source": [
    "a = 10\n",
    "print(double(a))\n",
    "print(a)"
   ]
  },
  {
   "cell_type": "code",
   "execution_count": null,
   "metadata": {},
   "outputs": [
    {
     "name": "stdout",
     "output_type": "stream",
     "text": [
      "20\n"
     ]
    }
   ],
   "source": [
    "a = 10\n",
    "a = double(a)\n",
    "print(a)\n"
   ]
  },
  {
   "cell_type": "code",
   "execution_count": null,
   "metadata": {},
   "outputs": [
    {
     "name": "stdout",
     "output_type": "stream",
     "text": [
      "60\n"
     ]
    }
   ],
   "source": [
    "a = double(10) + double(20)\n",
    "print(a)"
   ]
  },
  {
   "cell_type": "code",
   "execution_count": null,
   "metadata": {},
   "outputs": [],
   "source": [
    "def sum_n(n):\n",
    "    total =0\n",
    "    for i in range(1,n+1):\n",
    "        total += i\n",
    "    return total"
   ]
  },
  {
   "cell_type": "code",
   "execution_count": null,
   "metadata": {},
   "outputs": [
    {
     "name": "stdout",
     "output_type": "stream",
     "text": [
      "the sum from 1 to n:10 is  55\n"
     ]
    }
   ],
   "source": [
    "n = int(input('enter N: '))\n",
    "print(f'the sum from 1 to n:{n} is ',sum_n(n))"
   ]
  },
  {
   "cell_type": "code",
   "execution_count": null,
   "metadata": {},
   "outputs": [],
   "source": [
    "def print_line(n,c):\n",
    "    for i in range(n):\n",
    "        print(c, end=\"\")\n",
    "    print()\n",
    "\n",
    "def print_square(n,c):\n",
    "    for i in range(n):\n",
    "        print_line(n, c)\n",
    "\n",
    "print_square(5, '+')\n",
    "n = int(input('enter n: '))\n",
    "c = input('enter character: ')\n",
    "print_square(n, c)"
   ]
  },
  {
   "cell_type": "code",
   "execution_count": null,
   "metadata": {},
   "outputs": [
    {
     "name": "stdout",
     "output_type": "stream",
     "text": [
      "nhap lai\n"
     ]
    }
   ],
   "source": [
    "a=float(input('nhap canh a '))\n",
    "b=float(input('nhap canh b '))\n",
    "c=float(input('nhap canh c '))\n",
    "area = triangle_area(a,b,c)\n",
    "if ValueError:\n",
    "    print('nhap lai')\n",
    "else:\n",
    "    print(f'dien tich tam giac la {area}')\n"
   ]
  }
 ],
 "metadata": {
  "kernelspec": {
   "display_name": "Python 3",
   "language": "python",
   "name": "python3"
  },
  "language_info": {
   "codemirror_mode": {
    "name": "ipython",
    "version": 3
   },
   "file_extension": ".py",
   "mimetype": "text/x-python",
   "name": "python",
   "nbconvert_exporter": "python",
   "pygments_lexer": "ipython3",
   "version": "3.11.5"
  }
 },
 "nbformat": 4,
 "nbformat_minor": 2
}
