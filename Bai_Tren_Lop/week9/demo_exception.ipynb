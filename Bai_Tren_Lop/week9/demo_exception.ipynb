{
 "cells": [
  {
   "cell_type": "code",
   "execution_count": null,
   "metadata": {},
   "outputs": [],
   "source": [
    "try:\n",
    "    a = int(input('Enter a:'))\n",
    "    b = int(input('Enter b:'))\n",
    "    print(a,b)\n",
    "    c = a / b\n",
    "    print(c)\n",
    "except ValueError:\n",
    "    print('invalid input. Please enter a number')\n",
    "except ZeroDivisionError:\n",
    "    print('can not divide by zero. Please enter a none-zero number')\n"
   ]
  },
  {
   "cell_type": "code",
   "execution_count": null,
   "metadata": {},
   "outputs": [],
   "source": [
    "try:\n",
    "    a = [19, 8, 9, 0, 2, 73, 12]\n",
    "    s = sum(a)\n",
    "    i = int(input('enter index: '))\n",
    "    print(s/a[i])\n",
    "except ValueError:\n",
    "    print('invalid input. Please enter a number')\n",
    "except ZeroDivisionError:\n",
    "    print('can not divide by zero. Please enter a none-zero number')\n",
    "except IndexError:\n",
    "    print(f'invalid input. Please enter a valid index in range [0, {len(a)-1}]')\n"
   ]
  },
  {
   "cell_type": "code",
   "execution_count": 3,
   "metadata": {},
   "outputs": [
    {
     "name": "stdout",
     "output_type": "stream",
     "text": [
      "invalid input, hi is not in dictionary\n"
     ]
    }
   ],
   "source": [
    "try:\n",
    "    eng_vie = {'hello': 'xin chao', 'goodbye': 'tam biet', 'love': 'yeu', 'hate': 'ghet'}\n",
    "    en_word = input('Enter English word: ')\n",
    "    print(f' translate {en_word} to Vietnamese: {eng_vie[en_word]}')\n",
    "except KeyError:\n",
    "    print(f'invalid input, {en_word} is not in dictionary')\n"
   ]
  },
  {
   "cell_type": "code",
   "execution_count": null,
   "metadata": {},
   "outputs": [],
   "source": [
    "try: \n",
    "    fname = input('enter file name: ')\n",
    "    f = open(fname, 'r')\n",
    "    content = f.read()\n",
    "    print(content)\n",
    "    f.close()\n",
    "except FileNotFoundError: \n",
    "    print(f'file {fname} not found')"
   ]
  }
 ],
 "metadata": {
  "kernelspec": {
   "display_name": "Python 3",
   "language": "python",
   "name": "python3"
  },
  "language_info": {
   "codemirror_mode": {
    "name": "ipython",
    "version": 3
   },
   "file_extension": ".py",
   "mimetype": "text/x-python",
   "name": "python",
   "nbconvert_exporter": "python",
   "pygments_lexer": "ipython3",
   "version": "3.11.5"
  }
 },
 "nbformat": 4,
 "nbformat_minor": 2
}
