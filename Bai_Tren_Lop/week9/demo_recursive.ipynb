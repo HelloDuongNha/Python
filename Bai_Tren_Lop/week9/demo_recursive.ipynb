{
 "cells": [
  {
   "cell_type": "code",
   "execution_count": 6,
   "metadata": {},
   "outputs": [
    {
     "name": "stdout",
     "output_type": "stream",
     "text": [
      "16\n"
     ]
    }
   ],
   "source": [
    "# recursive function: a function that calls itself\n",
    "def my_funct(n):\n",
    "    if n == 1:\n",
    "        return 1\n",
    "    else:\n",
    "        return 2 * my_funct(n-1)\n",
    "print(my_funct(5))"
   ]
  },
  {
   "cell_type": "code",
   "execution_count": 27,
   "metadata": {},
   "outputs": [
    {
     "name": "stdout",
     "output_type": "stream",
     "text": [
      "2\n"
     ]
    }
   ],
   "source": [
    "def factorial(n):\n",
    "    if n < 0:\n",
    "        raise ValueError('n must not be negative')\n",
    "    if n == 0:\n",
    "        return 1\n",
    "    \n",
    "    return n * factorial(n-1)\n",
    "print(factorial(2))"
   ]
  },
  {
   "cell_type": "code",
   "execution_count": null,
   "metadata": {},
   "outputs": [],
   "source": [
    "for i in range(10):\n",
    "    print(f'{i}! = {factorial(i)}')\n"
   ]
  },
  {
   "cell_type": "code",
   "execution_count": 32,
   "metadata": {},
   "outputs": [
    {
     "name": "stdout",
     "output_type": "stream",
     "text": [
      "+ C:\\WorkSpace\\Python\\Bai_Tren_Lop\\week9\n",
      "-agencies.txt\n",
      "-authors.txt\n",
      "-demo_exception.ipynb\n",
      "-demo_file.ipynb\n",
      "-demo_recursive.ipynb\n",
      "-hello.txt\n"
     ]
    }
   ],
   "source": [
    "import os\n",
    "\"fksfksf\"\n",
    "\n",
    "def print_directory(path):\n",
    "    if not os.path.isdir(path):\n",
    "        print(f'-{path.split(\"/\")[-1]}')\n",
    "    else:\n",
    "        print(f'+ {path.split(\"/\")[-1]}')\n",
    "        files = os.listdir(path)\n",
    "        for f in files:\n",
    "            print_directory(path + '/' + f)\n",
    "\n",
    "path = input('enter a directory: ')\n",
    "print_directory(path)"
   ]
  }
 ],
 "metadata": {
  "kernelspec": {
   "display_name": "Python 3",
   "language": "python",
   "name": "python3"
  },
  "language_info": {
   "codemirror_mode": {
    "name": "ipython",
    "version": 3
   },
   "file_extension": ".py",
   "mimetype": "text/x-python",
   "name": "python",
   "nbconvert_exporter": "python",
   "pygments_lexer": "ipython3",
   "version": "3.11.5"
  }
 },
 "nbformat": 4,
 "nbformat_minor": 2
}
