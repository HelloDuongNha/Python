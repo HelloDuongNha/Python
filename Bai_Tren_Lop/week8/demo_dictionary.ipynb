{
 "cells": [
  {
   "cell_type": "code",
   "execution_count": 1,
   "metadata": {},
   "outputs": [
    {
     "name": "stdout",
     "output_type": "stream",
     "text": [
      " translate hate to Vietnamese: ghet\n"
     ]
    }
   ],
   "source": [
    "# declare dictionary\n",
    "d = {} # empty dictionary\n",
    "eng_vie = {'hello': 'xin chao', 'goodbye': 'tam biet', 'love': 'yeu', 'hate': 'ghet'}\n",
    "en_word = input('Enter English word: ')\n",
    "if en_word not in eng_vie:\n",
    "    print(f'not found {en_word} in dictionary')\n",
    "else:\n",
    "    vn_word = eng_vie[en_word]\n",
    "    print(f' translate {en_word} to Vietnamese: {vn_word}')"
   ]
  },
  {
   "cell_type": "code",
   "execution_count": 5,
   "metadata": {},
   "outputs": [
    {
     "name": "stdout",
     "output_type": "stream",
     "text": [
      "hello: xin chao\n",
      "goodbye: tam biet\n",
      "love: yeu\n",
      "hate: ghet\n",
      "lmao: lol\n"
     ]
    }
   ],
   "source": [
    "en_word = input('enter a new English word: ')\n",
    "vn_word = input('enter a translate vietnamese word: ')\n",
    "#add to the dictionary\n",
    "eng_vie[en_word] = vn_word\n",
    "\n",
    "def print_dict(d):\n",
    "    for k, v in d.items():\n",
    "        print(f'{k}: {v}')\n",
    "\n",
    "print_dict(eng_vie)"
   ]
  },
  {
   "cell_type": "code",
   "execution_count": 6,
   "metadata": {},
   "outputs": [
    {
     "name": "stdout",
     "output_type": "stream",
     "text": [
      "hello: xin chao\n",
      "goodbye: tam biet\n",
      "love: yeu\n",
      "hate: ghet\n",
      "lmao: bruh\n"
     ]
    }
   ],
   "source": [
    "en_word = input('enter a current English word: ')\n",
    "vn_word = input('enter a new translate vietnamese word: ')\n",
    "if en_word not in eng_vie:\n",
    "    print(f'this word {en_word} is not in dictionary')\n",
    "else:\n",
    "    #change (en_word, vn_word) in the dictionary\n",
    "    eng_vie[en_word] = vn_word\n",
    "    print_dict(eng_vie)"
   ]
  },
  {
   "cell_type": "code",
   "execution_count": null,
   "metadata": {},
   "outputs": [],
   "source": [
    "en_word = input('enter a current word to delete: ')\n",
    "if en_word not in eng_vie:\n",
    "    print(f'word {en_word} is not in dictionary')\n",
    "else:\n",
    "    #delete the (en_word) in the dictionary = \"pop\"\n",
    "    eng_vie.pop(en_word)\n",
    "    print_dict(eng_vie)"
   ]
  }
 ],
 "metadata": {
  "kernelspec": {
   "display_name": "Python 3",
   "language": "python",
   "name": "python3"
  },
  "language_info": {
   "codemirror_mode": {
    "name": "ipython",
    "version": 3
   },
   "file_extension": ".py",
   "mimetype": "text/x-python",
   "name": "python",
   "nbconvert_exporter": "python",
   "pygments_lexer": "ipython3",
   "version": "3.11.5"
  }
 },
 "nbformat": 4,
 "nbformat_minor": 2
}
