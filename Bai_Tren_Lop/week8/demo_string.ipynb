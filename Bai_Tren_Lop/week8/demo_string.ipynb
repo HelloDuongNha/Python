{
 "cells": [
  {
   "cell_type": "code",
   "execution_count": 1,
   "metadata": {},
   "outputs": [
    {
     "name": "stdout",
     "output_type": "stream",
     "text": [
      "PI = 3.14\n",
      "PI = 3.14e+00\n",
      "b = 123.46\n",
      "b = 1.2346e+02\n",
      "c = 0.01\n",
      "c = 1.2346e-02\n",
      "interstl = 5.678000%\n"
     ]
    }
   ],
   "source": [
    "PI = 3.14159\n",
    "# floating point presentation\n",
    "print(f'PI = {PI:.2f}')\n",
    "# scientific notation\n",
    "print(f'PI = {PI:.2e}')\n",
    "b = 123.4568\n",
    "print((f'b = {b:.2f}'))\n",
    "print(f'b = {b:.4e}')\n",
    "c = 0.0123456789\n",
    "print(f'c = {c:.2f}')\n",
    "print(f'c = {c:.4e}')\n",
    "interest = 0.05678\n",
    "print(f'interstl = {interest:1%}')"
   ]
  },
  {
   "cell_type": "code",
   "execution_count": 2,
   "metadata": {},
   "outputs": [
    {
     "name": "stdout",
     "output_type": "stream",
     "text": [
      "c = |1.2346e-02          \n",
      "c = |          1.2346e-02\n",
      "c = |     1.2346e-02     \n"
     ]
    }
   ],
   "source": [
    "print(f'c = |{c:<20.4e}')\n",
    "print(f'c = |{c:>20.4e}')\n",
    "print(f'c = |{c:^20.4e}')"
   ]
  },
  {
   "cell_type": "code",
   "execution_count": 15,
   "metadata": {},
   "outputs": [
    {
     "name": "stdout",
     "output_type": "stream",
     "text": [
      "hello world\n",
      "HELLO WORLD\n",
      "Hello World\n",
      "HEllo wORld\n",
      "heLLO WorLD\n"
     ]
    }
   ],
   "source": [
    "# stringl methods\n",
    "s= 'heLLO WorLD'\n",
    "print(s.lower())\n",
    "print(s.upper())\n",
    "print(s.title())\n",
    "print(s.swapcase())\n",
    "print(s)\n"
   ]
  },
  {
   "cell_type": "code",
   "execution_count": 1,
   "metadata": {},
   "outputs": [
    {
     "name": "stdout",
     "output_type": "stream",
     "text": [
      "|      hello     world      |\n",
      "|hello     world      |\n",
      "|      hello     world|\n",
      "|hello     world|\n",
      "|hello world|\n"
     ]
    }
   ],
   "source": [
    "s = '      hello     world      '\n",
    "print(f'|{s}|')\n",
    "print(f'|{s.lstrip()}|')                   # remove leading spaces\n",
    "print(f'|{s.rstrip()}|')                   # remove trailing spaces\n",
    "print(f'|{s.strip()}|')                    # remove leading and trailing spaces\n",
    "print(f'|{\" \".join(s.split())}|')          # remove leading and trailing spaces and multiple spaces with single\n"
   ]
  },
  {
   "cell_type": "code",
   "execution_count": 3,
   "metadata": {},
   "outputs": [
    {
     "name": "stdout",
     "output_type": "stream",
     "text": [
      "4,5,6,7,8\n",
      "['4', '5', '6', '7', '8']\n",
      "4++++5++++6++++7++++8\n"
     ]
    }
   ],
   "source": [
    "grades = '4,5,6,7,8'\n",
    "print(grades)\n",
    "grades = grades.split(',')\n",
    "print(grades)\n",
    "grades = '++++'.join(grades)\n",
    "print(grades)"
   ]
  },
  {
   "cell_type": "code",
   "execution_count": 3,
   "metadata": {},
   "outputs": [
    {
     "name": "stdout",
     "output_type": "stream",
     "text": [
      "|    Hello World     \n",
      "|Hello World         \n",
      "|         Hello World\n"
     ]
    }
   ],
   "source": [
    "s = 'Hello World'\n",
    "print(f'|{s.center(20)}')\n",
    "print(f'|{s.ljust(20)}')\n",
    "print(f'|{s.rjust(20)}')"
   ]
  },
  {
   "cell_type": "code",
   "execution_count": 4,
   "metadata": {},
   "outputs": [
    {
     "name": "stdout",
     "output_type": "stream",
     "text": [
      "He110 W0r1d\n"
     ]
    }
   ],
   "source": [
    "s = s.replace('l', '1')\n",
    "s = s.replace('o', '0')\n",
    "print(s)"
   ]
  },
  {
   "cell_type": "code",
   "execution_count": null,
   "metadata": {},
   "outputs": [],
   "source": [
    "print(len(s)) #length of s"
   ]
  },
  {
   "cell_type": "code",
   "execution_count": null,
   "metadata": {},
   "outputs": [],
   "source": [
    "names = ['John', 'Mary', 'Peter', 'Bob']\n",
    "print(min(names))\n",
    "print(max(names))"
   ]
  },
  {
   "cell_type": "code",
   "execution_count": 7,
   "metadata": {},
   "outputs": [
    {
     "name": "stdout",
     "output_type": "stream",
     "text": [
      "Barrack Obama\n",
      "George Washington\n"
     ]
    }
   ],
   "source": [
    "names = ['Barrack Obama', 'Donald Trump', 'Bill Clinton', 'George Washington']\n",
    "print(min(names, key=len)) #min of names in length\n",
    "print(max(names, key=len)) #max of names in length"
   ]
  },
  {
   "cell_type": "code",
   "execution_count": 10,
   "metadata": {},
   "outputs": [],
   "source": [
    "import random as rd\n",
    "numbers = rd.sample(range(1, 100),10)"
   ]
  },
  {
   "cell_type": "code",
   "execution_count": null,
   "metadata": {},
   "outputs": [],
   "source": [
    "print(numbers)\n",
    "print(max(numbers))\n",
    "print(min(numbers))\n",
    "print(sum(numbers))\n",
    "print(numbers.index(36))\n",
    "print(numbers.index(56))"
   ]
  },
  {
   "cell_type": "code",
   "execution_count": 4,
   "metadata": {},
   "outputs": [
    {
     "name": "stdout",
     "output_type": "stream",
     "text": [
      "helloworld\n",
      "hellohellohello\n"
     ]
    }
   ],
   "source": [
    "s = 'hello' + 'world'\n",
    "print(s)\n",
    "s = 'hello' * 3\n",
    "print(s)"
   ]
  },
  {
   "cell_type": "code",
   "execution_count": 5,
   "metadata": {},
   "outputs": [
    {
     "name": "stdout",
     "output_type": "stream",
     "text": [
      "h\n",
      "1 1\n",
      "[100, 2, 3]\n",
      "(1, 2, 3)\n"
     ]
    }
   ],
   "source": [
    "print(s[0])\n",
    "#s[0] = 'H' #ERROR, string is immutable\n",
    "a = (1, 2, 3) # a is tuple, immutable\n",
    "b = [1, 2, 3] # b is list, mutable\n",
    "print(a[0], b[0])\n",
    "b[0] = 100\n",
    "print(b)\n",
    "#a[0] = 100 # ERROR, tuple is immutable\n",
    "print(a)"
   ]
  },
  {
   "cell_type": "code",
   "execution_count": null,
   "metadata": {},
   "outputs": [],
   "source": [
    "s = input('enter a string: ')\n",
    "if s.isalpha():\n",
    "    print('all characters are letters')\n",
    "elif s.isdigit():\n",
    "    print('all characters are digits')\n",
    "elif s.isalnum():\n",
    "    print('all characters are letters or digits')\n",
    "else:\n",
    "    print('string contains other character')"
   ]
  },
  {
   "cell_type": "code",
   "execution_count": 12,
   "metadata": {},
   "outputs": [
    {
     "name": "stdout",
     "output_type": "stream",
     "text": [
      "|hello world| starts with |hello|\n",
      "|hello world| does not end with |hello|\n",
      "hello appears 1 times in hello world\n"
     ]
    }
   ],
   "source": [
    "s1 = 'hello world'\n",
    "s2 = input('Enter a string: ')\n",
    "\n",
    "if s1.startswith(s2):\n",
    "    print(f'|{s1}| starts with |{s2}|')\n",
    "else:\n",
    "    print(f'|{s1}| does not start with |{s2}|')\n",
    "if s1.endswith(s2):\n",
    "    print(f'|{s1}| ends with |{s2}|')\n",
    "else:\n",
    "    print(f'|{s1}| does not end with |{s2}|')\n",
    "print(f'{s2} appears {s1.count(s2)} times in {s1}')"
   ]
  },
  {
   "cell_type": "code",
   "execution_count": 14,
   "metadata": {},
   "outputs": [
    {
     "name": "stdout",
     "output_type": "stream",
     "text": [
      "|    Hello World     |\n"
     ]
    }
   ],
   "source": [
    "s = '       heLLo wORLd         '\n",
    "print(f'|{s.strip().title().center(20)}|')"
   ]
  },
  {
   "cell_type": "code",
   "execution_count": 7,
   "metadata": {},
   "outputs": [
    {
     "name": "stdout",
     "output_type": "stream",
     "text": [
      "!\"#$%&'()*+,-./:;<=>?@[\\]^_`{|}~\n",
      "fjkdffalk^&@^*(($$))\n",
      "fjkdffalk\n"
     ]
    }
   ],
   "source": [
    "from string import punctuation\n",
    "print(punctuation)\n",
    "s = 'fjkdffalk^&@^*(($$))'\n",
    "print(s)\n",
    "for c in punctuation:\n",
    "    if c in s:\n",
    "        s = s.replace(c, '') # remove c from s\n",
    "print(s)"
   ]
  },
  {
   "cell_type": "code",
   "execution_count": 16,
   "metadata": {},
   "outputs": [
    {
     "name": "stdout",
     "output_type": "stream",
     "text": [
      "abc2789fsfj\n"
     ]
    }
   ],
   "source": [
    "s = 'abc2789$@%^&*(#(fsfj()))'\n",
    "new_s = []\n",
    "for c in s:\n",
    "    if c not in punctuation:\n",
    "        new_s.append(c)\n",
    "s = ''.join(new_s)\n",
    "print(s)"
   ]
  },
  {
   "cell_type": "code",
   "execution_count": 21,
   "metadata": {},
   "outputs": [],
   "source": [
    "def word_count(content):\n",
    "    #remove punctuation\n",
    "    for c in punctuation:\n",
    "        if c in content:\n",
    "            content = content.replace(c, '')\n",
    "    #remove leading and trailing spaces\n",
    "    content = content.strip()\n",
    "    #remove multiple spaces\n",
    "    content = ''.join(content.split())\n",
    "    #count words\n",
    "    return len(content)"
   ]
  },
  {
   "cell_type": "code",
   "execution_count": 23,
   "metadata": {},
   "outputs": [
    {
     "name": "stdout",
     "output_type": "stream",
     "text": [
      "45\n"
     ]
    }
   ],
   "source": [
    "ex = 'fda knijqewefnw*&*@&@@@@ n    *(!U(HIUFHHJEfj khiU(829u8nfj fsndifu*())))'\n",
    "print(word_count(ex))"
   ]
  }
 ],
 "metadata": {
  "kernelspec": {
   "display_name": "Python 3",
   "language": "python",
   "name": "python3"
  },
  "language_info": {
   "codemirror_mode": {
    "name": "ipython",
    "version": 3
   },
   "file_extension": ".py",
   "mimetype": "text/x-python",
   "name": "python",
   "nbconvert_exporter": "python",
   "pygments_lexer": "ipython3",
   "version": "3.11.5"
  }
 },
 "nbformat": 4,
 "nbformat_minor": 2
}
