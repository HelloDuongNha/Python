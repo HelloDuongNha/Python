{
 "cells": [
  {
   "cell_type": "code",
   "execution_count": 2,
   "metadata": {},
   "outputs": [
    {
     "name": "stdout",
     "output_type": "stream",
     "text": [
      "[-99, -96, -86, -80, -60, -53, -48, -20, -10, 7, 10, 47, 60, 84, 98]\n"
     ]
    }
   ],
   "source": [
    "import random as rd \n",
    "def greater(a, b):\n",
    "    return a > b\n",
    "\n",
    "def my_sort(items, compare=greater):\n",
    "    for i in range(len(items)-1):\n",
    "        for j in range(i+1, len(items)):\n",
    "            if compare(items[i], items[j]):\n",
    "                items[i], items[j] = items[j], items[i]\n",
    "    return items\n",
    "\n",
    "numbers = rd.sample(range(-100, 100), 15)\n",
    "my_sort(numbers)    # default sort is ascending, using greater function\n",
    "print(numbers)"
   ]
  },
  {
   "cell_type": "code",
   "execution_count": 28,
   "metadata": {},
   "outputs": [
    {
     "name": "stdout",
     "output_type": "stream",
     "text": [
      "Min =  [98, 84, 60, 47, 10, 7, -10, -20, -48, -53, -60, -80, -86, -96, -99]\n",
      "Min =  [7, 10, -10, -20, 47, -48, -53, 60, -60, -80, 84, -86, -96, 98, -99]\n",
      "Min =  [-99, 98, -96, -86, 84, -80, 60, -60, -53, -48, 47, -20, 10, -10, 7]\n",
      "Min =  [-80, 60, -60, -20, 10, -10, -53, 84, -96, -86, 47, 7, -48, 98, -99]\n",
      "Min =  [-99, 98, -48, 7, 47, -86, -96, 84, -53, -20, 10, -10, -80, 60, -60]\n",
      "Min =  ['Do Thi Lan', 'Ho Thu Hoai', 'Hoang Mai', 'Le Duc Hoa', 'Le Trung Binh', 'Nguyen Thi Mai', 'Nguyen Van An', 'Nguyen Van Binh']\n",
      "Min =  ['Nguyen Van An', 'Le Trung Binh', 'Nguyen Van Binh', 'Le Duc Hoa', 'Ho Thu Hoai', 'Do Thi Lan', 'Hoang Mai', 'Nguyen Thi Mai']\n",
      "Min =  ['Nguyen Van An', 'Le Trung Binh', 'Nguyen Van Binh', 'Le Duc Hoa', 'Ho Thu Hoai', 'Do Thi Lan', 'Hoang Mai', 'Nguyen Thi Mai']\n",
      "2\n"
     ]
    }
   ],
   "source": [
    "# Do all the task bellow by using lambda function\n",
    "\n",
    "# Sort numbers descending \n",
    "print(f'Min = ', my_sort(numbers, lambda a, b : a < b))\n",
    "# Sort numbers ascending by absolute value\n",
    "print(f'Min = ', my_sort(numbers, lambda a, b : abs(a) > abs(b)))\n",
    "# Sort numbers descending by absolute value\n",
    "print(f'Min = ', my_sort(numbers, lambda a, b : abs(a) < abs(b)))\n",
    "# Sort numbers ascending by the last digit\n",
    "print(f'Min = ', my_sort(numbers, lambda a, b : abs(a)%10 > abs(b)%10))\n",
    "# Sort numbers decending by the last digit\n",
    "print(f'Min = ', my_sort(numbers, lambda a, b : abs(a)%10 < abs(b)%10))\n",
    "names = ['Nguyen Van Binh', 'Nguyen Van An', 'Le Trung Binh', 'Le Duc Hoa', 'Hoang Mai', 'Ho Thu Hoai', 'Nguyen Thi Mai', 'Do Thi Lan']\n",
    "# Sort names by last name then first name (Vietnamesse name)\n",
    "print(f'Min = ', my_sort(names, lambda a, b : a > b))\n",
    "print(f'Min = ', my_sort(names, lambda a, b : a.split(' ')[-1] > b.split(' ')[-1]))\n",
    "# # Sort names by number of vowels (aeiou) in name\n",
    "print(f'Min = ', my_sort(names, lambda a, b : a.lower().count('a'+'e'+'i'+'o'+'u') > b.lower().count('a'+'e'+'i'+'o'+'u')))\n",
    "print(names[0].lower().count('a'))"
   ]
  },
  {
   "cell_type": "code",
   "execution_count": 62,
   "metadata": {},
   "outputs": [
    {
     "name": "stdout",
     "output_type": "stream",
     "text": [
      "Decending the number =  [98, 84, 60, 47, 10, 7, -10, -20, -48, -53, -60, -80, -86, -96, -99]\n"
     ]
    }
   ],
   "source": [
    "# Sort numbers descending \n",
    "print(f'Decending the number = ', my_sort(numbers, lambda a, b : a < b))"
   ]
  },
  {
   "cell_type": "code",
   "execution_count": 63,
   "metadata": {},
   "outputs": [
    {
     "name": "stdout",
     "output_type": "stream",
     "text": [
      "Ascending the absolute value =  [7, 10, -10, -20, 47, -48, -53, 60, -60, -80, 84, -86, -96, 98, -99]\n"
     ]
    }
   ],
   "source": [
    "# Sort numbers ascending by absolute value\n",
    "print(f'Ascending the absolute value = ', my_sort(numbers, lambda a, b : abs(a) > abs(b)))"
   ]
  },
  {
   "cell_type": "code",
   "execution_count": 64,
   "metadata": {},
   "outputs": [
    {
     "name": "stdout",
     "output_type": "stream",
     "text": [
      "Decending the absolute value =  [-99, 98, -96, -86, 84, -80, 60, -60, -53, -48, 47, -20, 10, -10, 7]\n"
     ]
    }
   ],
   "source": [
    "# Sort numbers descending by absolute value\n",
    "print(f'Decending the absolute value = ', my_sort(numbers, lambda a, b : abs(a) < abs(b)))"
   ]
  },
  {
   "cell_type": "code",
   "execution_count": 65,
   "metadata": {},
   "outputs": [
    {
     "name": "stdout",
     "output_type": "stream",
     "text": [
      "Ascending the last digit =  [-80, 60, -60, -20, 10, -10, -53, 84, -96, -86, 47, 7, -48, 98, -99]\n"
     ]
    }
   ],
   "source": [
    "# Sort numbers ascending by the last digit\n",
    "print(f'Ascending the last digit = ', my_sort(numbers, lambda a, b : abs(a)%10 > abs(b)%10))"
   ]
  },
  {
   "cell_type": "code",
   "execution_count": 66,
   "metadata": {},
   "outputs": [
    {
     "name": "stdout",
     "output_type": "stream",
     "text": [
      "Decending the last digit =  [-99, 98, -48, 7, 47, -86, -96, 84, -53, -20, 10, -10, -80, 60, -60]\n"
     ]
    }
   ],
   "source": [
    "# Sort numbers decending by the last digit\n",
    "print(f'Decending the last digit = ', my_sort(numbers, lambda a, b : abs(a)%10 < abs(b)%10))"
   ]
  },
  {
   "cell_type": "code",
   "execution_count": 67,
   "metadata": {},
   "outputs": [
    {
     "name": "stdout",
     "output_type": "stream",
     "text": [
      "Last name sorting =  ['Do Thi Lan', 'Ho Thu Hoai', 'Hoang Mai', 'Le Duc Hoa', 'Le Trung Binh', 'Nguyen Thi Mai', 'Nguyen Van An', 'Nguyen Van Binh']\n",
      "First name sorting =  ['Nguyen Van An', 'Le Trung Binh', 'Nguyen Van Binh', 'Le Duc Hoa', 'Ho Thu Hoai', 'Do Thi Lan', 'Hoang Mai', 'Nguyen Thi Mai']\n"
     ]
    }
   ],
   "source": [
    "names = ['Nguyen Van Binh', 'Nguyen Van An', 'Le Trung Binh', 'Le Duc Hoa', 'Hoang Mai', 'Ho Thu Hoai', 'Nguyen Thi Mai', 'Do Thi Lan']\n",
    "# Sort names by last name (Vietnamesse name)\n",
    "print(f'Last name sorting = ', my_sort(names, lambda a, b : a > b))\n",
    "# Sort names by fisrt name (Vietnamesse name)\n",
    "print(f'First name sorting = ', my_sort(names, lambda a, b : a.split(' ')[-1] > b.split(' ')[-1]))"
   ]
  },
  {
   "cell_type": "code",
   "execution_count": 69,
   "metadata": {},
   "outputs": [
    {
     "name": "stdout",
     "output_type": "stream",
     "text": [
      "['Le Trung Binh', 'Do Thi Lan', 'Nguyen Van Binh', 'Le Duc Hoa', 'Hoang Mai', 'Nguyen Van An', 'Nguyen Thi Mai', 'Ho Thu Hoai']\n",
      "The ascening number of vowels (aeiou) in name:\n",
      "['Le Trung Binh : 3 vowels', 'Do Thi Lan : 3 vowels', 'Nguyen Van Binh : 4 vowels', 'Le Duc Hoa : 4 vowels', 'Hoang Mai : 4 vowels', 'Nguyen Van An : 4 vowels', 'Nguyen Thi Mai : 5 vowels', 'Ho Thu Hoai : 5 vowels']\n"
     ]
    }
   ],
   "source": [
    "names = ['Nguyen Van Binh', 'Nguyen Van An', 'Le Trung Binh', 'Le Duc Hoa', 'Hoang Mai', 'Ho Thu Hoai', 'Nguyen Thi Mai', 'Do Thi Lan']\n",
    "# # Sort names by number of vowels (aeiou) in name\n",
    "def vowel_count(names):\n",
    "    count = 0\n",
    "    for i in range (len(names)):\n",
    "        if names[i].lower() in ('aeiou'):\n",
    "            count += 1\n",
    "    return count\n",
    "\n",
    "# print (vowel_count(names[0]))\n",
    "\n",
    "names_count = []\n",
    "vowel_sorted = my_sort(names, lambda a, b : vowel_count(a) > vowel_count(b))\n",
    "print(vowel_sorted)\n",
    "\n",
    "#***** trang trí time :> *****\n",
    "for i in range (len(names)):\n",
    "    names_count.append(vowel_count(vowel_sorted[i]))\n",
    "for i in range (len(names)):\n",
    "    vowel_sorted[i] = vowel_sorted[i] + ' : ' + str(names_count[i]) + str(' vowels')\n",
    "\n",
    "print(f'The ascening number of vowels (aeiou) in name:\\n{vowel_sorted}')\n"
   ]
  }
 ],
 "metadata": {
  "kernelspec": {
   "display_name": "Python 3",
   "language": "python",
   "name": "python3"
  },
  "language_info": {
   "codemirror_mode": {
    "name": "ipython",
    "version": 3
   },
   "file_extension": ".py",
   "mimetype": "text/x-python",
   "name": "python",
   "nbconvert_exporter": "python",
   "pygments_lexer": "ipython3",
   "version": "3.11.5"
  },
  "orig_nbformat": 4
 },
 "nbformat": 4,
 "nbformat_minor": 2
}
