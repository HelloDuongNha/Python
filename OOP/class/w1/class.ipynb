{
 "cells": [
  {
   "cell_type": "code",
   "execution_count": 136,
   "metadata": {},
   "outputs": [],
   "source": [
    "# Define class Teacher\n",
    "class Teacher:\n",
    "    # __init__ is a method to create object of Teacher (normally refered as constructor)\n",
    "    # parameter: id, name, subjects are used to set corresponding attributes\n",
    "    # parameter: self is the objetc itself\n",
    "    def __init__(self, id, name, subject):\n",
    "        # self.attribute = parameter\n",
    "        self.id = id\n",
    "        self.name = name\n",
    "        self.subject = subject\n",
    "    def show(self):\n",
    "        print(f'Teacher ID: {self.id}, name: {self.name}, teach: {self.subject}')\n"
   ]
  },
  {
   "cell_type": "code",
   "execution_count": 137,
   "metadata": {},
   "outputs": [
    {
     "name": "stdout",
     "output_type": "stream",
     "text": [
      "Teacher ID: 1, name: John, teach: C++\n",
      "Teacher ID: 2, name: Paul, teach: Web development\n"
     ]
    }
   ],
   "source": [
    "# Create some Teacher object\n",
    "john = Teacher(1, 'John', 'C++')\n",
    "paul = Teacher(2, 'Paul', 'Web development')\n",
    "# Tell John to do something\n",
    "john.show()\n",
    "paul.show()"
   ]
  },
  {
   "cell_type": "code",
   "execution_count": 138,
   "metadata": {},
   "outputs": [
    {
     "name": "stdout",
     "output_type": "stream",
     "text": [
      "C++ Web development\n"
     ]
    }
   ],
   "source": [
    "# Access attributes (reading) syntax: object.attribute\n",
    "print(john.subject, paul.subject)"
   ]
  },
  {
   "cell_type": "code",
   "execution_count": 139,
   "metadata": {},
   "outputs": [
    {
     "name": "stdout",
     "output_type": "stream",
     "text": [
      "Teacher ID: 1, name: John, teach: C, C#\n",
      "Teacher ID: 2, name: Paul, teach: Web development: back-end, front-end\n"
     ]
    }
   ],
   "source": [
    "# Access attribute (writing) syntax: object.attribute = value\n",
    "john.subject = 'C, C#'\n",
    "paul.subject = 'Web development: back-end, front-end'\n",
    "john.show()\n",
    "paul.show()"
   ]
  },
  {
   "cell_type": "code",
   "execution_count": 140,
   "metadata": {},
   "outputs": [],
   "source": [
    "class dog:\n",
    "    def __init__(self, nick_name, age, owner):\n",
    "        self.nick_name = nick_name\n",
    "        self.age = age\n",
    "        self.owner = owner\n",
    "    def woof(self):\n",
    "        print('gâu gâu gâu ẳng ẳng ẳng')\n",
    "    def show(self):\n",
    "        print(f\"Dog's name: {self.nick_name} | age: {self.age} | owner: {self.owner} \")"
   ]
  },
  {
   "cell_type": "code",
   "execution_count": 141,
   "metadata": {},
   "outputs": [
    {
     "name": "stdout",
     "output_type": "stream",
     "text": [
      "Dog's name: Quan | age: 18 | owner: Duong \n"
     ]
    }
   ],
   "source": [
    "quan = dog('Quan', 18, 'Duong')\n",
    "quan.show()"
   ]
  },
  {
   "cell_type": "code",
   "execution_count": 142,
   "metadata": {},
   "outputs": [],
   "source": [
    "class owner:\n",
    "    def __init__(self, name, pet):\n",
    "        self.name = name        # set name\n",
    "        self.pet = pet          # set pet\n",
    "        self.pet.owner = name   # change owner of pet\n",
    "    def show(self):\n",
    "        print(f'my name: {self.name}')\n",
    "        print('my pet:',end=\" \")\n",
    "        self.pet.show()         #tell pet to show"
   ]
  },
  {
   "cell_type": "code",
   "execution_count": 143,
   "metadata": {},
   "outputs": [
    {
     "name": "stdout",
     "output_type": "stream",
     "text": [
      "my name: Duong\n",
      "my pet: Dog's name: Quan | age: 18 | owner: Duong \n"
     ]
    }
   ],
   "source": [
    "duong = owner(\"Duong\", quan)\n",
    "duong.show()"
   ]
  },
  {
   "cell_type": "code",
   "execution_count": 144,
   "metadata": {},
   "outputs": [],
   "source": [
    "class LightBulb:\n",
    "    def __init__(self, room):\n",
    "        self.room = room\n",
    "        self.light = False\n",
    "\n",
    "    def switch(self):\n",
    "        if self.light == True: self.light = False\n",
    "        else: self.light = True\n",
    "\n",
    "    def change_to(self, room):\n",
    "        self.room = room\n",
    "        print(f'Change the bulb to room {self.room}')\n",
    "\n",
    "    def show(self):\n",
    "        status = 'on' if self.light else 'off'\n",
    "        print(f'The status bulb in room {self.room} is: {status} ')"
   ]
  },
  {
   "cell_type": "code",
   "execution_count": 145,
   "metadata": {},
   "outputs": [
    {
     "name": "stdout",
     "output_type": "stream",
     "text": [
      "Change the bulb to room 408\n",
      "The status bulb in room 408 is: on \n"
     ]
    }
   ],
   "source": [
    "phong407 = LightBulb('407')\n",
    "phong407.change_to(408)\n",
    "phong407.switch()\n",
    "phong407.show()"
   ]
  },
  {
   "cell_type": "code",
   "execution_count": 148,
   "metadata": {},
   "outputs": [],
   "source": [
    "class television:\n",
    "    def __init__(self, name):\n",
    "        self.name = name\n",
    "        self.state = False\n",
    "        self.channel = 1\n",
    "\n",
    "    def turn_on(self):\n",
    "        if self.state == False:\n",
    "            self.state = True\n",
    "            status = 'on' if self.state else \"off\"\n",
    "            print(f'the TV is {status} and at channel: {self.channel}')\n",
    "        else: print('your TV is already turned ON')\n",
    "\n",
    "    def turn_off(self):\n",
    "        if self.state:\n",
    "            self.state = False\n",
    "            status = 'on' if self.state else \"off\"\n",
    "            print(f'the TV is {status} and at channel: {self.channel}')\n",
    "        else: print('your TV is already turned OFF')\n",
    "\n",
    "    def switch_channel(self, channel):\n",
    "        if self.state:\n",
    "            self.channel = channel\n",
    "            print(f'TV has changed to channel {self.channel}')\n",
    "        else: print('please turn on the TV first')"
   ]
  },
  {
   "cell_type": "code",
   "execution_count": 149,
   "metadata": {},
   "outputs": [
    {
     "name": "stdout",
     "output_type": "stream",
     "text": [
      "the TV is on and at channel: 1\n",
      "your TV is already turned ON\n",
      "the TV is off and at channel: 1\n",
      "your TV is already turned OFF\n",
      "please turn on the TV first\n",
      "the TV is on and at channel: 1\n",
      "TV has changed to channel 4\n"
     ]
    }
   ],
   "source": [
    "lgtv = television(\"LGTV\")\n",
    "lgtv.turn_on()\n",
    "lgtv.turn_on()\n",
    "lgtv.turn_off()\n",
    "lgtv.turn_off()\n",
    "lgtv.switch_channel(3)\n",
    "lgtv.turn_on()\n",
    "lgtv.switch_channel(4)"
   ]
  }
 ],
 "metadata": {
  "kernelspec": {
   "display_name": "Python 3",
   "language": "python",
   "name": "python3"
  },
  "language_info": {
   "codemirror_mode": {
    "name": "ipython",
    "version": 3
   },
   "file_extension": ".py",
   "mimetype": "text/x-python",
   "name": "python",
   "nbconvert_exporter": "python",
   "pygments_lexer": "ipython3",
   "version": "3.11.5"
  }
 },
 "nbformat": 4,
 "nbformat_minor": 2
}
