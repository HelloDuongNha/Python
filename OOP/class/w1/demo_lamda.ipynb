{
 "cells": [
  {
   "cell_type": "code",
   "execution_count": 1,
   "metadata": {},
   "outputs": [],
   "source": [
    "def superior(items, comp):\n",
    "    s = items[0]                    #set items[0] is superior\n",
    "    for i in range(1, len(items)):\n",
    "        if comp(s, items[i]):       #compare s and items[i]\n",
    "            s = items[i]            #update s if items[i] is superior than s\n",
    "\n",
    "    return s"
   ]
  },
  {
   "cell_type": "code",
   "execution_count": 2,
   "metadata": {},
   "outputs": [],
   "source": [
    "def greater(a, b):\n",
    "    return a > b\n",
    "\n",
    "def less(a, b):\n",
    "    return a < b"
   ]
  },
  {
   "cell_type": "code",
   "execution_count": 3,
   "metadata": {},
   "outputs": [
    {
     "name": "stdout",
     "output_type": "stream",
     "text": [
      "[50, 90, 59, 13, 49, 44, 76, 99, 95, 14]\n"
     ]
    }
   ],
   "source": [
    "import random as rd\n",
    "numbers = [rd.randint(10,100) for i in range(10)]\n",
    "print(numbers)"
   ]
  },
  {
   "cell_type": "code",
   "execution_count": 4,
   "metadata": {},
   "outputs": [
    {
     "name": "stdout",
     "output_type": "stream",
     "text": [
      "Max =  99\n",
      "Min =  13\n"
     ]
    }
   ],
   "source": [
    "print(f'Max = ', superior(numbers, less))\n",
    "print(f'Min = ', superior(numbers, greater))"
   ]
  },
  {
   "cell_type": "code",
   "execution_count": 5,
   "metadata": {},
   "outputs": [
    {
     "name": "stdout",
     "output_type": "stream",
     "text": [
      "Max =  99\n",
      "Min =  13\n"
     ]
    }
   ],
   "source": [
    "#using lambda function\n",
    "print(f'Max = ', superior(numbers, lambda a, b : a < b))\n",
    "print(f'Min = ', superior(numbers, lambda a, b : a > b))"
   ]
  },
  {
   "cell_type": "code",
   "execution_count": 6,
   "metadata": {},
   "outputs": [
    {
     "name": "stdout",
     "output_type": "stream",
     "text": [
      "Max by digit =  59\n",
      "Min by digit =  50\n"
     ]
    }
   ],
   "source": [
    "print(f'Max by digit = ', superior(numbers, lambda a, b : a%10 < b%10))\n",
    "print(f'Min by digit = ', superior(numbers, lambda a, b : a%10 > b%110))"
   ]
  },
  {
   "cell_type": "code",
   "execution_count": 10,
   "metadata": {},
   "outputs": [
    {
     "name": "stdout",
     "output_type": "stream",
     "text": [
      "Max =  Wayne Rooney\n",
      "Min =  Christiano Ronaldo\n",
      "Max in length =  Christiano Ronaldo\n",
      "Min in lenght =  Ryan Giggs\n"
     ]
    }
   ],
   "source": [
    "names = ['Wayne Rooney', 'Robie Van Persie', 'Christiano Ronaldo', 'Ryan Giggs']\n",
    "print(f'Max = ', superior(names, lambda a, b : a < b))\n",
    "print(f'Min = ', superior(names, lambda a, b : a > b))\n",
    "print(f'Max in length = ', superior(names, lambda a, b : len(a) < len(b)))\n",
    "print(f'Min in lenght = ', superior(names, lambda a, b : len(a) > len(b)))"
   ]
  },
  {
   "cell_type": "code",
   "execution_count": 11,
   "metadata": {},
   "outputs": [
    {
     "name": "stdout",
     "output_type": "stream",
     "text": [
      "Wayne Rooney\n",
      "Ryan Giggs\n"
     ]
    }
   ],
   "source": [
    "print(superior(names, lambda a, b : a.split(' ')[-1] < b.split(' ')[-1]))\n",
    "print(superior(names, lambda a, b : a.split(' ')[-1] > b.split(' ')[-1]))"
   ]
  }
 ],
 "metadata": {
  "kernelspec": {
   "display_name": "Python 3",
   "language": "python",
   "name": "python3"
  },
  "language_info": {
   "codemirror_mode": {
    "name": "ipython",
    "version": 3
   },
   "file_extension": ".py",
   "mimetype": "text/x-python",
   "name": "python",
   "nbconvert_exporter": "python",
   "pygments_lexer": "ipython3",
   "version": "3.11.5"
  }
 },
 "nbformat": 4,
 "nbformat_minor": 2
}
