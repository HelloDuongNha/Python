{
 "cells": [
  {
   "cell_type": "code",
   "execution_count": 19,
   "metadata": {},
   "outputs": [],
   "source": [
    "from abc import ABC, abstractmethod\n",
    "\n",
    "#abstract class: inherit from ABC and use @abstractethod decorator\n",
    "class MyAbstractClass(ABC):\n",
    "    def __init__(self, name):\n",
    "        self.name = name\n",
    "        \n",
    "    @abstractmethod\n",
    "    def do_something(self):\n",
    "        pass\n",
    "\n",
    "    def do_otherthing(self):\n",
    "        print('other thing')\n"
   ]
  },
  {
   "cell_type": "code",
   "execution_count": null,
   "metadata": {},
   "outputs": [],
   "source": [
    "a = MyAbstractClass('a') # error: cannot create object from object class"
   ]
  },
  {
   "cell_type": "code",
   "execution_count": 22,
   "metadata": {},
   "outputs": [
    {
     "name": "stdout",
     "output_type": "stream",
     "text": [
      "A: doing something\n",
      "other thing\n"
     ]
    }
   ],
   "source": [
    "class A(MyAbstractClass):\n",
    "    def __init__(self, name):\n",
    "        super().__init__(name)\n",
    "    # override abstract method\n",
    "    def do_something(self):\n",
    "        print(\"A: doing something\")\n",
    "a = A('a')\n",
    "a.do_something()\n",
    "a.do_otherthing()"
   ]
  },
  {
   "cell_type": "code",
   "execution_count": 23,
   "metadata": {},
   "outputs": [],
   "source": [
    "class B(MyAbstractClass):\n",
    "    def __init__(self, name):\n",
    "        super().__init__(name)\n",
    "    # override abstract method\n",
    "    def do_nothing(self):\n",
    "        print(\"B: doing nothing\")"
   ]
  },
  {
   "cell_type": "code",
   "execution_count": null,
   "metadata": {},
   "outputs": [],
   "source": [
    "b = B('b')  # error: class B is still abstract because it does not override do_somthing method"
   ]
  },
  {
   "cell_type": "code",
   "execution_count": 25,
   "metadata": {},
   "outputs": [
    {
     "name": "stdout",
     "output_type": "stream",
     "text": [
      "C: Doing something\n",
      "B: doing nothing\n",
      "other thing\n"
     ]
    }
   ],
   "source": [
    "class C(B):\n",
    "    def __init__(self, name):\n",
    "        super().__init__(name)\n",
    "    def do_something(self):\n",
    "        print('C: Doing something')\n",
    "c =C('c')\n",
    "c.do_something()\n",
    "c.do_nothing()\n",
    "c.do_otherthing()"
   ]
  }
 ],
 "metadata": {
  "kernelspec": {
   "display_name": "Python 3",
   "language": "python",
   "name": "python3"
  },
  "language_info": {
   "codemirror_mode": {
    "name": "ipython",
    "version": 3
   },
   "file_extension": ".py",
   "mimetype": "text/x-python",
   "name": "python",
   "nbconvert_exporter": "python",
   "pygments_lexer": "ipython3",
   "version": "3.11.5"
  }
 },
 "nbformat": 4,
 "nbformat_minor": 2
}
