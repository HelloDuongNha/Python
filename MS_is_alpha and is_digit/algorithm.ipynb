{
 "cells": [
  {
   "cell_type": "code",
   "execution_count": 16,
   "metadata": {},
   "outputs": [
    {
     "name": "stdout",
     "output_type": "stream",
     "text": [
      "25.0\n"
     ]
    }
   ],
   "source": [
    "x = float(input('nhap so lan lap: '))\n",
    "y = float(input('nhap y: '))\n",
    "n = 0\n",
    "answer = 0\n",
    "\n",
    "while (n<x):\n",
    "    answer += y\n",
    "    n+=1\n",
    "print(answer)\n"
   ]
  },
  {
   "cell_type": "code",
   "execution_count": 17,
   "metadata": {},
   "outputs": [
    {
     "name": "stdout",
     "output_type": "stream",
     "text": [
      "id:id123 is valid\n"
     ]
    }
   ],
   "source": [
    "id = input('nhap id bao gogm 5 ki tu gom 2 chu va 3 so: ')\n",
    "def check_id(id):\n",
    "    first_two_letters = id[:2]\n",
    "    last_three_digits = id[2:]\n",
    "    if len(id) != 5:\n",
    "        print('id phai la 5 ki tu bao gom 2 chu va 3 so')\n",
    "        return False\n",
    "    if first_two_letters.isalpha() and last_three_digits.isdigit():\n",
    "        print(f'id:{id} is valid')\n",
    "    else:\n",
    "        print(f'id:{id} is invalid')\n",
    "\n",
    "\n",
    "check_id(id)\n"
   ]
  }
 ],
 "metadata": {
  "kernelspec": {
   "display_name": "Python 3",
   "language": "python",
   "name": "python3"
  },
  "language_info": {
   "codemirror_mode": {
    "name": "ipython",
    "version": 3
   },
   "file_extension": ".py",
   "mimetype": "text/x-python",
   "name": "python",
   "nbconvert_exporter": "python",
   "pygments_lexer": "ipython3",
   "version": "3.11.5"
  }
 },
 "nbformat": 4,
 "nbformat_minor": 2
}
