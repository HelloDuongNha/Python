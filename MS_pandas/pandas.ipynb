{
 "cells": [
  {
   "cell_type": "code",
   "execution_count": 8,
   "metadata": {},
   "outputs": [
    {
     "data": {
      "text/html": [
       "<div>\n",
       "<style scoped>\n",
       "    .dataframe tbody tr th:only-of-type {\n",
       "        vertical-align: middle;\n",
       "    }\n",
       "\n",
       "    .dataframe tbody tr th {\n",
       "        vertical-align: top;\n",
       "    }\n",
       "\n",
       "    .dataframe thead th {\n",
       "        text-align: right;\n",
       "    }\n",
       "</style>\n",
       "<table border=\"1\" class=\"dataframe\">\n",
       "  <thead>\n",
       "    <tr style=\"text-align: right;\">\n",
       "      <th></th>\n",
       "      <th>LecturerID</th>\n",
       "      <th>LecturerName</th>\n",
       "      <th>Age</th>\n",
       "      <th>Gender</th>\n",
       "      <th>Unit</th>\n",
       "    </tr>\n",
       "  </thead>\n",
       "  <tbody>\n",
       "    <tr>\n",
       "      <th>0</th>\n",
       "      <td>301</td>\n",
       "      <td>Dr. Harry Clinton</td>\n",
       "      <td>38</td>\n",
       "      <td>Female</td>\n",
       "      <td>IT</td>\n",
       "    </tr>\n",
       "    <tr>\n",
       "      <th>1</th>\n",
       "      <td>302</td>\n",
       "      <td>Prof. Dr. Marek Reformat</td>\n",
       "      <td>56</td>\n",
       "      <td>Male</td>\n",
       "      <td>IT</td>\n",
       "    </tr>\n",
       "    <tr>\n",
       "      <th>2</th>\n",
       "      <td>303</td>\n",
       "      <td>Vince Davis</td>\n",
       "      <td>60</td>\n",
       "      <td>Male</td>\n",
       "      <td>IT</td>\n",
       "    </tr>\n",
       "    <tr>\n",
       "      <th>3</th>\n",
       "      <td>402</td>\n",
       "      <td>Matthew Scott</td>\n",
       "      <td>28</td>\n",
       "      <td>Male</td>\n",
       "      <td>Mathematics</td>\n",
       "    </tr>\n",
       "    <tr>\n",
       "      <th>4</th>\n",
       "      <td>403</td>\n",
       "      <td>Prof. Runjuan Liu</td>\n",
       "      <td>33</td>\n",
       "      <td>Female</td>\n",
       "      <td>Business Economics</td>\n",
       "    </tr>\n",
       "  </tbody>\n",
       "</table>\n",
       "</div>"
      ],
      "text/plain": [
       "   LecturerID              LecturerName  Age  Gender                Unit\n",
       "0         301         Dr. Harry Clinton   38  Female                  IT\n",
       "1         302  Prof. Dr. Marek Reformat   56    Male                  IT\n",
       "2         303               Vince Davis   60    Male                  IT\n",
       "3         402             Matthew Scott   28    Male         Mathematics\n",
       "4         403         Prof. Runjuan Liu   33  Female  Business Economics"
      ]
     },
     "execution_count": 8,
     "metadata": {},
     "output_type": "execute_result"
    }
   ],
   "source": [
    "import pandas as pd\n",
    "\n",
    "#read data from excel files into pandas dataframes\n",
    "lecturer_df = pd.read_excel('Lecturer.xlsx')\n",
    "student_df = pd.read_excel('Student.xlsx')\n",
    "course_df = pd.read_excel('Course.xlsx')\n",
    "enroll_df = pd.read_excel('Enroll.xlsx')\n",
    "teaching_df = pd.read_excel('Teaching.xlsx')\n",
    "\n",
    "lecturer_df"
   ]
  },
  {
   "cell_type": "code",
   "execution_count": 9,
   "metadata": {},
   "outputs": [
    {
     "name": "stdout",
     "output_type": "stream",
     "text": [
      "students who belong to group 'co1203' : \n",
      "    StudentID   Group      StudentName\n",
      "0  23D1080041  CO1203  Nguyễn Duy Vinh\n",
      "1  23D1150001  CO1203   Lại Trọng Bách\n",
      "2  23D1150002  CO1203    Nguyễn Duy Đô\n",
      "3  23D1150004  CO1203  Trần Ngọc Thành\n",
      "4  23D1150005  CO1203     Trần Văn Trà\n",
      "5  23D1150006  CO1203    Vũ Thanh Tùng\n"
     ]
    }
   ],
   "source": [
    "co1203_students = student_df[student_df['Group'] == 'CO1203']\n",
    "print(\"students who belong to group 'co1203' : \")\n",
    "print(co1203_students)"
   ]
  },
  {
   "cell_type": "code",
   "execution_count": 11,
   "metadata": {},
   "outputs": [
    {
     "name": "stdout",
     "output_type": "stream",
     "text": [
      "\n",
      "students who belong to group 'co1203' and 'co1205' : \n",
      "     StudentID   Group      StudentName\n",
      "0   23D1080041  CO1203  Nguyễn Duy Vinh\n",
      "1   23D1150001  CO1203   Lại Trọng Bách\n",
      "2   23D1150002  CO1203    Nguyễn Duy Đô\n",
      "3   23D1150004  CO1203  Trần Ngọc Thành\n",
      "4   23D1150005  CO1203     Trần Văn Trà\n",
      "5   23D1150006  CO1203    Vũ Thanh Tùng\n",
      "6   23D1050001  CO1205    Hoàng Văn Đạt\n",
      "7   23D1050002  CO1205    Trần Văn Ngọc\n",
      "8   23D1050003  CO1205   Trần Văn Quyền\n",
      "9   23D1050004  CO1205   Bùi Tuấn Thuận\n",
      "10  23D1050005  CO1205    Trịnh Đình Tú\n",
      "11  23D1050006  CO1205    Lê Quang Khải\n",
      "12  23D1050007  CO1205   Đinh Nam Dương\n"
     ]
    }
   ],
   "source": [
    "co1205_students = student_df[student_df['Group'].isin(['CO1203','CO1205'])]\n",
    "print(\"\\nstudents who belong to group 'co1203' and 'co1205' : \")\n",
    "print(co1205_students)"
   ]
  },
  {
   "cell_type": "code",
   "execution_count": 26,
   "metadata": {},
   "outputs": [
    {
     "name": "stdout",
     "output_type": "stream",
     "text": [
      "     StudentID   Group      StudentName\n",
      "5   23D1150006  CO1203    Vũ Thanh Tùng\n",
      "6   23D1050001  CO1205    Hoàng Văn Đạt\n",
      "7   23D1050002  CO1205    Trần Văn Ngọc\n",
      "8   23D1050003  CO1205   Trần Văn Quyền\n",
      "9   23D1050004  CO1205   Bùi Tuấn Thuận\n",
      "10  23D1050005  CO1205    Trịnh Đình Tú\n",
      "11  23D1050006  CO1205    Lê Quang Khải\n",
      "12  23D1050007  CO1205   Đinh Nam Dương\n",
      "13  21L1080021  CO1204  Nguyễn Huy Hùng\n"
     ]
    }
   ],
   "source": [
    "math1179_students = set(enroll_df[enroll_df['CourseID'] == 'MATH1179']['StudentID'])\n",
    "comp1589_students = set(enroll_df[enroll_df['CourseID'] == 'COMP1589']['StudentID'])\n",
    "enroll = math1179_students.union(comp1589_students)\n",
    "enroll_students = student_df[student_df['StudentID'].isin(enroll)]\n",
    "print(enroll_students)"
   ]
  }
 ],
 "metadata": {
  "kernelspec": {
   "display_name": "Python 3",
   "language": "python",
   "name": "python3"
  },
  "language_info": {
   "codemirror_mode": {
    "name": "ipython",
    "version": 3
   },
   "file_extension": ".py",
   "mimetype": "text/x-python",
   "name": "python",
   "nbconvert_exporter": "python",
   "pygments_lexer": "ipython3",
   "version": "3.11.5"
  }
 },
 "nbformat": 4,
 "nbformat_minor": 2
}
